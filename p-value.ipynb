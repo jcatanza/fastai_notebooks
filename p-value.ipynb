{
 "cells": [
  {
   "cell_type": "markdown",
   "metadata": {},
   "source": [
    "# How to determine a `p-value` via Monte Carlo simulation "
   ]
  },
  {
   "cell_type": "markdown",
   "metadata": {},
   "source": [
    "### Abstract\n",
    "This notebook was inspired by Jeremy's Lesson 2 discussion of Figure 1(a) in the paper \"High Temperature and High Humidity Reduce the Transmission of COVID-19\" at https://papers.ssrn.com/sol3/papers.cfm?abstract_id=3551767. \n",
    "\n",
    "We show how to empirically determine the **`p-value`** via Monte Carlo simulation, and apply this method to the data from Figure 1(a).\n",
    "\n",
    "The notebook is organized as follows:\n",
    "\n",
    "In **Section 1** we  work out how to generate random synthetic data sets that are consistent with the null hypothesis, and look qualitatively similar to the actual data in Figure 1(a). Because we don't have the actual datapoints, we rely on our eyeballs to tell us when our synthetic data looks close to the actual data.\n",
    "\n",
    "In **Section 2**, we examine one of our synthetic data sets. \n",
    "\n",
    "Next, in **Section 3** we perform a Monte Carlo simulation, generating an ensemble of 10,000 randomly drawn synthetic data sets. For each data set, we measure and record the slope of the fitted linear R-value vs. Temperature model. \n",
    "\n",
    "Then, in **Section 4**, we determine the `p-value for rejection of the null hypothesis`, which is the fraction of the 10,000 synthetic data sets for which the slope was **steeper than -0.023**, the slope in the actual data set. \n",
    "\n",
    "Finally, in **Section 5**, we discuss the significance of the `p-value` obtained."
   ]
  },
  {
   "cell_type": "code",
   "execution_count": 1,
   "metadata": {},
   "outputs": [],
   "source": [
    "import numpy as np\n",
    "%matplotlib inline\n",
    "import matplotlib.pyplot as plt"
   ]
  },
  {
   "cell_type": "markdown",
   "metadata": {},
   "source": [
    "## 1. Select parameters to generate null-hypothesis data sets that are qualitatively similar to the actual data set. \n",
    "This requires a bit of eyeballing and trial-and-error. We found a reasonable visual fit (see the plots below) to the data for temperatures with mean around 7 degrees and standard deviation of  7.5 degrees, and R values with mean 1.75 and standard deviation of 0.35"
   ]
  },
  {
   "cell_type": "code",
   "execution_count": 2,
   "metadata": {},
   "outputs": [],
   "source": [
    "# Simulation control parameters\n",
    "n_data_sets = 10000\n",
    "n_cities = 100\n",
    "mu_R = 1.75\n",
    "sigma_R = 0.35\n",
    "mu_T = 7.0\n",
    "sigma_T = 7.5\n",
    "R0 = 1.99\n",
    "M0 = -0.023"
   ]
  },
  {
   "cell_type": "markdown",
   "metadata": {},
   "source": [
    "### Building the linear model\n",
    "The linear model for the dependence of **`R-value`** on temperature **`T`** is\n",
    "\n",
    "**`R(T) = intercept + slope*T`** *equ. (1)*\n",
    "\n",
    "We can express this model in matrix form as follows:\n",
    "\n",
    "**`T = A@P`** *equ. (2)*\n",
    "\n",
    "where **`T`** is a column vector of temperatures for all the cities, **`R`** is a column vector of corresponding **`R`** values in these cities, **`A`** is the **design matrix**,\n",
    "**`P = [intercept, slope]`** -- a column vector -- is the fitted parameters vector. \n",
    "The **design matrix** **`A`**is a matrix whose first column is a vector of **`n_cities`** **ones**, and whose second column is the vector **`R`**. \n",
    "\n",
    "With these definitions, we see that equations (1) and (2) are equivalent."
   ]
  },
  {
   "cell_type": "markdown",
   "metadata": {},
   "source": [
    "### Fitting the linear model\n",
    "Equation (2) can be solved by multiplying both sides by the **Moore-Penrose pseudo-inverse** of the design matrix **`A`**, which we call **`pinv(A)`**. The pseudo-inverse has the same shape as A transpose, and has the property that **`pinv(A)@A = I`**, where **`I`** is the identity matrix with dimension **`A.shape[1]`**, andn **`@`** is matrix multiplication. Since **`A`** has **`2`** columns, **`I`** is the **`2x2`** identity matrix. \n",
    "\n",
    "the solution to equation (2) for the linear model parameters is\n",
    "\n",
    "**`P = pinv(A)@T`**\n",
    "\n",
    "From the definition of **`P`**, we have: \n",
    "\n",
    "intercept = **`P[0]`** and \n",
    "\n",
    "slope = **`P[1]`**\n",
    "\n",
    "The **Moore-Penrose pseudo-inverse** is implemented in **`numpy`** as the function **`numpy.linalg.pinv()`**"
   ]
  },
  {
   "cell_type": "markdown",
   "metadata": {},
   "source": [
    "### Let's create a function that combines the above two steps.\n",
    "We will generate a synthetic data set, then fit the linear model and return the fitted slope."
   ]
  },
  {
   "cell_type": "code",
   "execution_count": 3,
   "metadata": {},
   "outputs": [],
   "source": [
    "def fit_slope(n_cities,mu_R, sigma_R, mu_T, sigma_T):\n",
    "\n",
    "    # Generate the data vector, and the R vector for n_cities cities\n",
    "    R = np.random.normal(mu_R, sigma_R, n_cities)[:,None]\n",
    "    T = np.random.normal(mu_T, sigma_T, n_cities)[:,None]\n",
    "\n",
    "    # Build the design matrix A\n",
    "    ONES = np.ones(n_cities)[:,None]\n",
    "    A = np.hstack((ONES,R))\n",
    "\n",
    "    # Fit the linear parameters and return the slope\n",
    "    P = np.linalg.pinv(A)@T\n",
    "    intercept = P[0]\n",
    "    slope = P[1]\n",
    "    return slope, intercept, R, T, A"
   ]
  },
  {
   "cell_type": "markdown",
   "metadata": {},
   "source": [
    "## 2. Generate and examine a random synthetic data set\n",
    "Using the function we created above, we'll generate a random data set, then we'll do some Exploratory Data Analysis (EDA)."
   ]
  },
  {
   "cell_type": "code",
   "execution_count": 4,
   "metadata": {},
   "outputs": [],
   "source": [
    "slope, intercept, R, T, A = fit_slope(n_cities,mu_R, sigma_R, mu_T, sigma_T)"
   ]
  },
  {
   "cell_type": "markdown",
   "metadata": {},
   "source": [
    "### Temperature Distribution"
   ]
  },
  {
   "cell_type": "code",
   "execution_count": 5,
   "metadata": {},
   "outputs": [
    {
     "data": {
      "text/plain": [
       "Text(0.5, 1.0, 'Simulated Temperatures for 100 cities')"
      ]
     },
     "execution_count": 5,
     "metadata": {},
     "output_type": "execute_result"
    },
    {
     "data": {
      "image/png": "[encoded data removed]",
      "text/plain": [
       "<Figure size 432x288 with 1 Axes>"
      ]
     },
     "metadata": {
      "needs_background": "light"
     },
     "output_type": "display_data"
    }
   ],
   "source": [
    "plt.hist(T)\n",
    "plt.grid()\n",
    "plt.xlabel('Temperature, degrees Celsius')\n",
    "plt.ylabel('Counts')\n",
    "plt.title('Simulated Temperatures for '+str(n_cities)+' cities')"
   ]
  },
  {
   "cell_type": "markdown",
   "metadata": {},
   "source": [
    "### R-value Distribution"
   ]
  },
  {
   "cell_type": "code",
   "execution_count": 6,
   "metadata": {},
   "outputs": [
    {
     "data": {
      "image/png": "[encoded data removed]",
      "text/plain": [
       "<Figure size 432x288 with 1 Axes>"
      ]
     },
     "metadata": {
      "needs_background": "light"
     },
     "output_type": "display_data"
    }
   ],
   "source": [
    "plt.hist(R)\n",
    "plt.xlabel('R value: # of secondary infections per case')\n",
    "plt.ylabel('Counts')\n",
    "plt.title('Simulated R values for '+str(n_cities)+' cities')\n",
    "plt.grid()"
   ]
  },
  {
   "cell_type": "markdown",
   "metadata": {},
   "source": [
    "### Scatter plot of R-value vs. Temperature\n",
    "The red line is the fitted linear model for the data set in Figure 1(a) of the paper)"
   ]
  },
  {
   "cell_type": "code",
   "execution_count": 7,
   "metadata": {
    "scrolled": true
   },
   "outputs": [
    {
     "data": {
      "text/plain": [
       "<matplotlib.legend.Legend at 0x21e08d8f748>"
      ]
     },
     "execution_count": 7,
     "metadata": {},
     "output_type": "execute_result"
    },
    {
     "data": {
      "image/png": "[encoded data removed]",
      "text/plain": [
       "<Figure size 432x288 with 1 Axes>"
      ]
     },
     "metadata": {
      "needs_background": "light"
     },
     "output_type": "display_data"
    }
   ],
   "source": [
    "plt.scatter(T,R)\n",
    "plt.grid()\n",
    "plt.plot()\n",
    "plt.xlabel('Temperature, degrees Celsius')\n",
    "plt.ylabel('R value: # of secondary infections per case')\n",
    "plt.title('Synthetic data set: R values vs. Temperature, for '+str(n_cities)+' cities')\n",
    "axes = plt.gca()\n",
    "x_vals = np.array(axes.get_xlim())\n",
    "y_vals = R0 + M0 * x_vals\n",
    "plt.plot(x_vals, y_vals, '--', color = 'red')\n",
    "plt.legend(['intercept = '+str(R0)+', slope = '+str(M0)])"
   ]
  },
  {
   "cell_type": "markdown",
   "metadata": {},
   "source": [
    "## 3. Generate synthetic data sets and measure slopes\n",
    "Now we are ready to generate the synthetic data that will allow us to determine the p-value.\n",
    "We'll run a **Monte Carlo simulation** to generate an ensemble of 100,000 synthetic data sets and measures the slope of the linear model for each data set. The function below returns a column vector of the 100,000 fitted slopes."
   ]
  },
  {
   "cell_type": "code",
   "execution_count": 8,
   "metadata": {},
   "outputs": [],
   "source": [
    "def get_slopes(n_data_sets = n_data_sets):\n",
    "    slopes = np.array([fit_slope(n_cities,mu_R, sigma_R, mu_T, sigma_T)[0] for n in range(n_data_sets)])\n",
    "    return slopes"
   ]
  },
  {
   "cell_type": "markdown",
   "metadata": {},
   "source": [
    "Run the simulation and get the slopes:"
   ]
  },
  {
   "cell_type": "code",
   "execution_count": 9,
   "metadata": {},
   "outputs": [],
   "source": [
    "slopes = get_slopes(n_data_sets)"
   ]
  },
  {
   "cell_type": "markdown",
   "metadata": {},
   "source": [
    "## 4. Determine the the `p-value` for rejection of the null hypothesis\n",
    "The `p-value` is the fraction of the synthetic data sets which for which the fitted slope was `steeper than -0.023`"
   ]
  },
  {
   "cell_type": "markdown",
   "metadata": {},
   "source": [
    "### Let's see what the distribution of fitted slopes looks like:"
   ]
  },
  {
   "cell_type": "code",
   "execution_count": 10,
   "metadata": {
    "scrolled": true
   },
   "outputs": [
    {
     "data": {
      "text/plain": [
       "<matplotlib.legend.Legend at 0x21e08e06f60>"
      ]
     },
     "execution_count": 10,
     "metadata": {},
     "output_type": "execute_result"
    },
    {
     "data": {
      "image/png": "[encoded data removed]",
      "text/plain": [
       "<Figure size 432x288 with 1 Axes>"
      ]
     },
     "metadata": {
      "needs_background": "light"
     },
     "output_type": "display_data"
    }
   ],
   "source": [
    "plt.hist(slopes,100)\n",
    "plt.grid()\n",
    "plt.xlabel('Slope of linear Temperature model')\n",
    "plt.ylabel('Counts')\n",
    "plt.title('Distribution of slopes over '+str(n_data_sets)+' simulated data sets')\n",
    "plt.axvline(x=-0.023,color = 'red')\n",
    "plt.legend(['slope = -0.023'])"
   ]
  },
  {
   "cell_type": "markdown",
   "metadata": {},
   "source": [
    "### Let's determine the p-value:"
   ]
  },
  {
   "cell_type": "code",
   "execution_count": 11,
   "metadata": {},
   "outputs": [
    {
     "name": "stdout",
     "output_type": "stream",
     "text": [
      "4915 out of 10000 slopes were steeper than -0.023\n",
      "The p-value for rejection of the null hypothesis is therefore [0.4915]\n"
     ]
    }
   ],
   "source": [
    "n_steep = sum(slopes<-0.023)\n",
    "p_value = n_steep/n_data_sets\n",
    "print(str(n_steep.item()) + ' out of ' + str(n_data_sets) + ' slopes were steeper than -0.023')\n",
    "print('The p-value for rejection of the null hypothesis is therefore ' + str(p_value))"
   ]
  },
  {
   "cell_type": "markdown",
   "metadata": {},
   "source": [
    "## 5. Discussion"
   ]
  },
  {
   "cell_type": "markdown",
   "metadata": {},
   "source": [
    "Our resulting`p-value` tells us that half of our synthetic data sets had steeper slopes than the actual data set! Since this is above the **`1%`** threshold accepted by most scientists, we do not have sufficient grounds to reject the null hypothesis. We therefore conclude that the slope of **`-0.023`** measured from the actual data set is probably not significant, because it is consistent with data generated from random noise."
   ]
  },
  {
   "cell_type": "code",
   "execution_count": null,
   "metadata": {},
   "outputs": [],
   "source": []
  }
 ],
 "metadata": {
  "kernelspec": {
   "display_name": "fastai_v1",
   "language": "python",
   "name": "fastai_v1"
  },
  "language_info": {
   "codemirror_mode": {
    "name": "ipython",
    "version": 3
   },
   "file_extension": ".py",
   "mimetype": "text/x-python",
   "name": "python",
   "nbconvert_exporter": "python",
   "pygments_lexer": "ipython3",
   "version": "3.7.3"
  }
 },
 "nbformat": 4,
 "nbformat_minor": 4
}
